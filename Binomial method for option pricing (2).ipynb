{
 "cells": [
  {
   "cell_type": "code",
   "execution_count": 7,
   "id": "6d9eb7e1-6b69-40d4-b47e-c4edb7fbefa1",
   "metadata": {},
   "outputs": [],
   "source": [
    "def binomial_option(spot: float, strike: float, rate: float, sigma: float, time:float, steps: int, output: int=0):\n",
    "    \"\"\"\n",
    "    Binomial option pricing model for a European call option\n",
    "    \"\"\"\n",
    "    # Define the tree\n",
    "    ts = time / steps\n",
    "    u = 1+sigma*np.sqrt(ts)\n",
    "    v = 1- sigma*np.sqrt(ts)\n",
    "    p = 0.5 + rate * np.sqrt(ts) / (2 * sigma)\n",
    "    df = 1/(1+rate*ts)\n",
    "    \n",
    "    px = np.zeros((steps+1, steps+1))\n",
    "    cp = np.zeros((steps+1, steps+1))\n",
    "    V = np.zeros((steps+1, steps+1))\n",
    "    d = np.zeros((steps+1, steps+1))\n",
    "    \n",
    "    for j in range(steps+1):\n",
    "        for i in range(j+1):\n",
    "            px[i,j] = spot*np.power(v,i)*np.power(u,j-i)\n",
    "            cp[i,j] = np.maximum(px[i,j]-strike, 0)\n",
    "            # reverse loop\n",
    "    for j in range(steps+1, 0, -1):\n",
    "        for i in range(j):\n",
    "            if (j==steps+1):\n",
    "                V[i,j-1] = cp[i,j-1]\n",
    "                d[i,j-1] = 0\n",
    "            else:\n",
    "                V[i,j-1] = df*(p*V[i,j]+(1-p)*V[i+1,j])\n",
    "                d[i,j-1] = (V[i,j]-V[i+1,j])/(px[i,j]-px[i+1,j])\n",
    "    results = np.around(px,2), np.around(cp,2), np.around(V,2), np.around(d,4)\n",
    "    return results[output]"
   ]
  },
  {
   "cell_type": "code",
   "execution_count": 3,
   "id": "0df5d8cf-4445-434c-837f-90d90cb416ba",
   "metadata": {},
   "outputs": [],
   "source": [
    "import numpy as np #this should come first"
   ]
  },
  {
   "cell_type": "code",
   "execution_count": 8,
   "id": "21ba8cec-0cf1-4e98-8af0-792768016c7c",
   "metadata": {},
   "outputs": [
    {
     "data": {
      "text/plain": [
       "array([[100.  , 110.  , 121.  , 133.1 , 146.41],\n",
       "       [  0.  ,  90.  ,  99.  , 108.9 , 119.79],\n",
       "       [  0.  ,   0.  ,  81.  ,  89.1 ,  98.01],\n",
       "       [  0.  ,   0.  ,   0.  ,  72.9 ,  80.19],\n",
       "       [  0.  ,   0.  ,   0.  ,   0.  ,  65.61]])"
      ]
     },
     "execution_count": 8,
     "metadata": {},
     "output_type": "execute_result"
    }
   ],
   "source": [
    "# Asset price\n",
    "px = binomial_option(100,100,0.05,0.2,1,4,0)\n",
    "px"
   ]
  },
  {
   "cell_type": "code",
   "execution_count": 9,
   "id": "c14847b3-d39d-4c6f-8462-ecb463a8a542",
   "metadata": {},
   "outputs": [
    {
     "data": {
      "text/plain": [
       "array([[ 0.  , 10.  , 21.  , 33.1 , 46.41],\n",
       "       [ 0.  ,  0.  ,  0.  ,  8.9 , 19.79],\n",
       "       [ 0.  ,  0.  ,  0.  ,  0.  ,  0.  ],\n",
       "       [ 0.  ,  0.  ,  0.  ,  0.  ,  0.  ],\n",
       "       [ 0.  ,  0.  ,  0.  ,  0.  ,  0.  ]])"
      ]
     },
     "execution_count": 9,
     "metadata": {},
     "output_type": "execute_result"
    }
   ],
   "source": [
    "# Intrinsic value of call options\n",
    "cp = binomial_option(100,100,0.05,0.2,1,4,1)\n",
    "cp"
   ]
  },
  {
   "cell_type": "code",
   "execution_count": 23,
   "id": "7e15b3f9-fd0b-4e3c-abeb-5bd86bb6c6fc",
   "metadata": {},
   "outputs": [
    {
     "name": "stdout",
     "output_type": "stream",
     "text": [
      "5.13\n",
      "6.60\n",
      "8.39\n",
      "10.29\n",
      "12.25\n",
      "14.25\n",
      "16.29\n",
      "18.37\n",
      "20.46\n",
      "22.58\n",
      "24.71\n",
      "26.86\n",
      "29.01\n",
      "31.16\n",
      "33.31\n"
     ]
    }
   ],
   "source": [
    "sigma_values = np.arange(0.05, 0.80, 0.05)\n",
    "option_prices = []\n",
    "header = ['Option Values']\n",
    "\n",
    "for sigma in sigma_values:\n",
    "    option_prices.append(binomial_option(100, 100, 0.05, sigma, 1, 4, 2))\n",
    "    \n",
    "for i in range(len(option_prices)):\n",
    "    print(f'{option_prices[i][0,0]:.2f}')"
   ]
  },
  {
   "cell_type": "code",
   "execution_count": 46,
   "id": "293c9189-1abb-43bf-bef7-49708d375144",
   "metadata": {},
   "outputs": [
    {
     "name": "stdout",
     "output_type": "stream",
     "text": [
      "    Option Values  Volatility\n",
      "0            5.13        0.05\n",
      "1            6.60        0.10\n",
      "2            8.39        0.15\n",
      "3           10.29        0.20\n",
      "4           12.25        0.25\n",
      "5           14.25        0.30\n",
      "6           16.29        0.35\n",
      "7           18.37        0.40\n",
      "8           20.46        0.45\n",
      "9           22.58        0.50\n",
      "10          24.71        0.55\n",
      "11          26.86        0.60\n",
      "12          29.01        0.65\n",
      "13          31.16        0.70\n",
      "14          33.31        0.75\n"
     ]
    }
   ],
   "source": [
    "import pandas as pd\n",
    "\n",
    "sigma_values = np.arange(0.05, 0.80, 0.05)\n",
    "option_prices = []\n",
    "header = ['Option Values', 'Volatility']\n",
    "\n",
    "for sigma in sigma_values:\n",
    "    option_price = binomial_option(100, 100, 0.05, sigma, 1, 4, 2)\n",
    "    #option_prices.append([option_price, sigma])\n",
    "    option_prices.append([option_price[0,0], sigma])\n",
    "\n",
    "df = pd.DataFrame(option_prices, columns=header)\n",
    "print(df)"
   ]
  },
  {
   "cell_type": "code",
   "execution_count": 45,
   "id": "8f8536e7-dc26-4d9b-b7b7-578cdf178a0c",
   "metadata": {},
   "outputs": [],
   "source": [
    "import matplotlib.pyplot as plt"
   ]
  },
  {
   "cell_type": "code",
   "execution_count": 47,
   "id": "c7c53c41-b087-4095-a66e-cba77431fc04",
   "metadata": {},
   "outputs": [
    {
     "data": {
      "image/png": "[encoded data removed]",
      "text/plain": [
       "<Figure size 640x480 with 1 Axes>"
      ]
     },
     "metadata": {},
     "output_type": "display_data"
    }
   ],
   "source": [
    "fig, ax = plt.subplots()\n",
    "ax.scatter(df['Volatility'], df['Option Values'], marker='o', c='blue')\n",
    "ax.set_title('Price Options at Different Sigma')\n",
    "\n",
    "ax.set_xlabel('Volatility')\n",
    "ax.set_ylabel('Option Values')\n",
    "\n",
    "plt.show()"
   ]
  },
  {
   "cell_type": "code",
   "execution_count": 51,
   "id": "b3a05ef0-9da0-4a39-b385-9d6cc0cc1a81",
   "metadata": {},
   "outputs": [
    {
     "name": "stdout",
     "output_type": "stream",
     "text": [
      "    Time  Option Price\n",
      "0      4        0.7273\n",
      "1      5        0.7482\n",
      "2      6        0.7659\n",
      "3      7        0.7813\n",
      "4      8        0.7949\n",
      "5      9        0.8070\n",
      "6     10        0.8179\n",
      "7     11        0.8279\n",
      "8     12        0.8370\n",
      "9     13        0.8454\n",
      "10    14        0.8532\n",
      "11    15        0.8604\n",
      "12    16        0.8672\n",
      "13    17        0.8735\n",
      "14    18        0.8795\n",
      "15    19        0.8852\n",
      "16    20        0.8905\n",
      "17    21        0.8956\n",
      "18    22        0.9004\n",
      "19    23        0.9050\n",
      "20    24        0.9094\n",
      "21    25        0.9136\n",
      "22    26        0.9176\n",
      "23    27        0.9214\n",
      "24    28        0.9251\n",
      "25    29        0.9287\n",
      "26    30        0.9321\n",
      "27    31        0.9354\n",
      "28    32        0.9386\n",
      "29    33        0.9416\n",
      "30    34        0.9446\n",
      "31    35        0.9474\n",
      "32    36        0.9502\n",
      "33    37        0.9528\n",
      "34    38        0.9554\n",
      "35    39        0.9579\n",
      "36    40        0.9603\n",
      "37    41        0.9626\n",
      "38    42        0.9649\n",
      "39    43        0.9671\n",
      "40    44        0.9692\n",
      "41    45        0.9712\n",
      "42    46        0.9732\n",
      "43    47        0.9752\n",
      "44    48        0.9770\n",
      "45    49        0.9788\n"
     ]
    }
   ],
   "source": [
    "import pandas as pd\n",
    "\n",
    "time_movement = np.arange(4, 50, 1)\n",
    "time_delta = []\n",
    "header = ['Time', 'Option Price']\n",
    "\n",
    "for time in time_movement:\n",
    "    time_deltas = binomial_option(100, 100, 0.05, 0.2, time, 4, 3)\n",
    "    time_delta.append([time, time_deltas[0,0]])\n",
    "\n",
    "df_time = pd.DataFrame(time_delta, columns=header)\n",
    "print(df_time)"
   ]
  },
  {
   "cell_type": "code",
   "execution_count": null,
   "id": "7f2f1ea1-0b25-4b77-a84d-afbc5e2ffbdb",
   "metadata": {},
   "outputs": [],
   "source": [
    "fig, ax = plt.subplots()\n",
    "ax.scatter(df['Time'], df['Option Price'], marker='o', c='blue')\n",
    "ax.set_title('Price Options at Different Sigma')\n",
    "\n",
    "ax.set_xlabel('Volatility')\n",
    "ax.set_ylabel('Option Values')\n",
    "\n",
    "plt.show()"
   ]
  }
 ],
 "metadata": {
  "kernelspec": {
   "display_name": "Python 3 (ipykernel)",
   "language": "python",
   "name": "python3"
  },
  "language_info": {
   "codemirror_mode": {
    "name": "ipython",
    "version": 3
   },
   "file_extension": ".py",
   "mimetype": "text/x-python",
   "name": "python",
   "nbconvert_exporter": "python",
   "pygments_lexer": "ipython3",
   "version": "3.9.18"
  }
 },
 "nbformat": 4,
 "nbformat_minor": 5
}
